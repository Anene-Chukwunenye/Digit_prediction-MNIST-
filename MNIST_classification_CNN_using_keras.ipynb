{
 "cells": [
  {
   "cell_type": "code",
   "execution_count": 1,
   "id": "cce896c3",
   "metadata": {},
   "outputs": [],
   "source": [
    "import keras\n",
    "from keras.models import Sequential\n",
    "from keras.layers import Dense\n",
    "from keras.utils import to_categorical"
   ]
  },
  {
   "cell_type": "code",
   "execution_count": 2,
   "id": "64ce551c",
   "metadata": {},
   "outputs": [],
   "source": [
    "from keras.layers.convolutional import Conv2D\n",
    "from keras.layers.convolutional import MaxPooling2D\n",
    "from keras.layers import Flatten\n"
   ]
  },
  {
   "cell_type": "code",
   "execution_count": 3,
   "id": "ec04f45e",
   "metadata": {},
   "outputs": [],
   "source": [
    "from keras.datasets import mnist\n",
    "# loading data as train and test sets\n",
    "(x_train,y_train), (x_test,y_test)=mnist.load_data()\n"
   ]
  },
  {
   "cell_type": "code",
   "execution_count": 5,
   "id": "e3032ee1",
   "metadata": {},
   "outputs": [],
   "source": [
    "# it is very important to reshape our data!\n",
    "x_train=x_train.reshape(-1,28,28,1)\n",
    "x_test=x_test.reshape(-1,28,28,1)"
   ]
  },
  {
   "cell_type": "code",
   "execution_count": 4,
   "id": "c15caaaf",
   "metadata": {},
   "outputs": [],
   "source": [
    "#normalizing the data\n",
    "x_train= x_train/255\n",
    "x_test=x_test/255"
   ]
  },
  {
   "cell_type": "code",
   "execution_count": 6,
   "id": "d6403a71",
   "metadata": {},
   "outputs": [],
   "source": [
    "\n",
    "y_train=to_categorical(y_train)\n",
    "y_test=to_categorical(y_test)"
   ]
  },
  {
   "cell_type": "code",
   "execution_count": 8,
   "id": "68a4eb06",
   "metadata": {},
   "outputs": [],
   "source": [
    "# this model has just one convolutional layer and pooling layer\n",
    "def convolution_model():\n",
    "    \n",
    "    #model creation\n",
    "    model=Sequential()\n",
    "    model.add(Conv2D(16,(5,5), strides=(1,1),activation='relu',input_shape=(28,28,1)))\n",
    "    model.add(MaxPooling2D(pool_size=(2,2),strides=(2,2))) \n",
    "    \n",
    "    model.add(Flatten())\n",
    "    \n",
    "    model.add(Dense(100,activation='relu'))\n",
    "    model.add(Dense(10,activation='softmax'))\n",
    "    \n",
    "    \n",
    "    model.compile(optimizer='adam',loss='categorical_crossentropy',metrics=['accuracy'])\n",
    "        \n",
    "    return model    \n",
    "        \n",
    "            "
   ]
  },
  {
   "cell_type": "code",
   "execution_count": 9,
   "id": "32e17c03",
   "metadata": {},
   "outputs": [],
   "source": [
    "# model activation\n",
    "model=convolution_model()"
   ]
  },
  {
   "cell_type": "code",
   "execution_count": 10,
   "id": "32859a20",
   "metadata": {},
   "outputs": [
    {
     "name": "stdout",
     "output_type": "stream",
     "text": [
      "Epoch 1/10\n",
      "300/300 - 25s - loss: 0.3043 - accuracy: 0.9127 - val_loss: 0.1144 - val_accuracy: 0.9670 - 25s/epoch - 82ms/step\n",
      "Epoch 2/10\n",
      "300/300 - 19s - loss: 0.0891 - accuracy: 0.9746 - val_loss: 0.0629 - val_accuracy: 0.9804 - 19s/epoch - 63ms/step\n",
      "Epoch 3/10\n",
      "300/300 - 19s - loss: 0.0592 - accuracy: 0.9825 - val_loss: 0.0515 - val_accuracy: 0.9840 - 19s/epoch - 62ms/step\n",
      "Epoch 4/10\n",
      "300/300 - 22s - loss: 0.0453 - accuracy: 0.9870 - val_loss: 0.0449 - val_accuracy: 0.9842 - 22s/epoch - 75ms/step\n",
      "Epoch 5/10\n",
      "300/300 - 20s - loss: 0.0385 - accuracy: 0.9878 - val_loss: 0.0426 - val_accuracy: 0.9858 - 20s/epoch - 66ms/step\n",
      "Epoch 6/10\n",
      "300/300 - 22s - loss: 0.0308 - accuracy: 0.9911 - val_loss: 0.0380 - val_accuracy: 0.9864 - 22s/epoch - 74ms/step\n",
      "Epoch 7/10\n",
      "300/300 - 23s - loss: 0.0269 - accuracy: 0.9918 - val_loss: 0.0375 - val_accuracy: 0.9877 - 23s/epoch - 76ms/step\n",
      "Epoch 8/10\n",
      "300/300 - 22s - loss: 0.0212 - accuracy: 0.9935 - val_loss: 0.0328 - val_accuracy: 0.9888 - 22s/epoch - 72ms/step\n",
      "Epoch 9/10\n",
      "300/300 - 19s - loss: 0.0186 - accuracy: 0.9942 - val_loss: 0.0375 - val_accuracy: 0.9879 - 19s/epoch - 65ms/step\n",
      "Epoch 10/10\n",
      "300/300 - 21s - loss: 0.0155 - accuracy: 0.9954 - val_loss: 0.0398 - val_accuracy: 0.9872 - 21s/epoch - 68ms/step\n"
     ]
    },
    {
     "ename": "NameError",
     "evalue": "name 'scores' is not defined",
     "output_type": "error",
     "traceback": [
      "\u001b[1;31m---------------------------------------------------------------------------\u001b[0m",
      "\u001b[1;31mNameError\u001b[0m                                 Traceback (most recent call last)",
      "\u001b[1;32m~\\AppData\\Local\\Temp/ipykernel_8220/1592664965.py\u001b[0m in \u001b[0;36m<module>\u001b[1;34m\u001b[0m\n\u001b[0;32m      2\u001b[0m \u001b[1;33m\u001b[0m\u001b[0m\n\u001b[0;32m      3\u001b[0m \u001b[0mscore\u001b[0m\u001b[1;33m=\u001b[0m\u001b[0mmodel\u001b[0m\u001b[1;33m.\u001b[0m\u001b[0mevaluate\u001b[0m\u001b[1;33m(\u001b[0m\u001b[0mx_test\u001b[0m\u001b[1;33m,\u001b[0m\u001b[0my_test\u001b[0m\u001b[1;33m,\u001b[0m\u001b[0mverbose\u001b[0m \u001b[1;33m=\u001b[0m\u001b[1;36m0\u001b[0m\u001b[1;33m)\u001b[0m\u001b[1;33m\u001b[0m\u001b[1;33m\u001b[0m\u001b[0m\n\u001b[1;32m----> 4\u001b[1;33m \u001b[0mprint\u001b[0m\u001b[1;33m(\u001b[0m\u001b[1;34m\"Accuracy: {} \\n Error: {}\"\u001b[0m\u001b[1;33m.\u001b[0m\u001b[0mformat\u001b[0m\u001b[1;33m(\u001b[0m\u001b[0mscores\u001b[0m\u001b[1;33m[\u001b[0m\u001b[1;36m1\u001b[0m\u001b[1;33m]\u001b[0m\u001b[1;33m,\u001b[0m \u001b[1;36m100\u001b[0m\u001b[1;33m-\u001b[0m\u001b[0mscores\u001b[0m\u001b[1;33m[\u001b[0m\u001b[1;36m1\u001b[0m\u001b[1;33m]\u001b[0m\u001b[1;33m*\u001b[0m\u001b[1;36m100\u001b[0m\u001b[1;33m)\u001b[0m\u001b[1;33m)\u001b[0m\u001b[1;33m\u001b[0m\u001b[1;33m\u001b[0m\u001b[0m\n\u001b[0m",
      "\u001b[1;31mNameError\u001b[0m: name 'scores' is not defined"
     ]
    }
   ],
   "source": [
    "model.fit(x_train,y_train, validation_data=(x_test,y_test),epochs=10,batch_size=200,verbose=2)\n",
    "\n",
    "score=model.evaluate(x_test,y_test,verbose =0)\n",
    "print(\"Accuracy: {} \\n Error: {}\".format(score[1], 100-scores[1]*100))"
   ]
  },
  {
   "cell_type": "code",
   "execution_count": 12,
   "id": "8c87978e",
   "metadata": {},
   "outputs": [
    {
     "name": "stdout",
     "output_type": "stream",
     "text": [
      "Accuracy: 0.9872000217437744 \n",
      " Error: 1.2799978256225586\n"
     ]
    }
   ],
   "source": [
    "print(\"Accuracy: {} \\n Error: {}\".format(score[1], 100-score[1]*100))"
   ]
  },
  {
   "cell_type": "code",
   "execution_count": 14,
   "id": "216677d3",
   "metadata": {},
   "outputs": [],
   "source": [
    "# this model has just one convolutional layer and pooling layer\n",
    "def convolution2_model():\n",
    "    \n",
    "    #model creation\n",
    "    model=Sequential()\n",
    "    model.add(Conv2D(16,(5,5), strides=(1,1),activation='relu',input_shape=(28,28,1)))\n",
    "    model.add(MaxPooling2D(pool_size=(2,2),strides=(2,2))) \n",
    "    \n",
    "    model.add(Conv2D(16,(5,5), strides=(1,1),activation='relu'))\n",
    "    model.add(MaxPooling2D(pool_size=(2,2),strides=(2,2)))\n",
    "    \n",
    "    model.add(Flatten())\n",
    "    \n",
    "    model.add(Dense(100,activation='relu'))\n",
    "    model.add(Dense(10,activation='softmax'))\n",
    "    \n",
    "    \n",
    "    model.compile(optimizer='adam',loss='categorical_crossentropy',metrics=['accuracy'])\n",
    "        \n",
    "    return model "
   ]
  },
  {
   "cell_type": "code",
   "execution_count": 15,
   "id": "0f27fe06",
   "metadata": {},
   "outputs": [
    {
     "name": "stdout",
     "output_type": "stream",
     "text": [
      "Epoch 1/10\n",
      "300/300 - 31s - loss: 0.3603 - accuracy: 0.8914 - val_loss: 0.1034 - val_accuracy: 0.9667 - 31s/epoch - 104ms/step\n",
      "Epoch 2/10\n",
      "300/300 - 33s - loss: 0.0975 - accuracy: 0.9704 - val_loss: 0.0767 - val_accuracy: 0.9768 - 33s/epoch - 108ms/step\n",
      "Epoch 3/10\n",
      "300/300 - 33s - loss: 0.0687 - accuracy: 0.9786 - val_loss: 0.0510 - val_accuracy: 0.9838 - 33s/epoch - 109ms/step\n",
      "Epoch 4/10\n",
      "300/300 - 30s - loss: 0.0541 - accuracy: 0.9831 - val_loss: 0.0440 - val_accuracy: 0.9854 - 30s/epoch - 101ms/step\n",
      "Epoch 5/10\n",
      "300/300 - 30s - loss: 0.0452 - accuracy: 0.9859 - val_loss: 0.0425 - val_accuracy: 0.9870 - 30s/epoch - 101ms/step\n",
      "Epoch 6/10\n",
      "300/300 - 28s - loss: 0.0383 - accuracy: 0.9884 - val_loss: 0.0342 - val_accuracy: 0.9890 - 28s/epoch - 93ms/step\n",
      "Epoch 7/10\n",
      "300/300 - 30s - loss: 0.0321 - accuracy: 0.9900 - val_loss: 0.0344 - val_accuracy: 0.9886 - 30s/epoch - 101ms/step\n",
      "Epoch 8/10\n",
      "300/300 - 26s - loss: 0.0286 - accuracy: 0.9911 - val_loss: 0.0353 - val_accuracy: 0.9882 - 26s/epoch - 86ms/step\n",
      "Epoch 9/10\n",
      "300/300 - 32s - loss: 0.0255 - accuracy: 0.9918 - val_loss: 0.0318 - val_accuracy: 0.9890 - 32s/epoch - 108ms/step\n",
      "Epoch 10/10\n",
      "300/300 - 30s - loss: 0.0225 - accuracy: 0.9929 - val_loss: 0.0305 - val_accuracy: 0.9897 - 30s/epoch - 99ms/step\n"
     ]
    },
    {
     "ename": "NameError",
     "evalue": "name 'X_test' is not defined",
     "output_type": "error",
     "traceback": [
      "\u001b[1;31m---------------------------------------------------------------------------\u001b[0m",
      "\u001b[1;31mNameError\u001b[0m                                 Traceback (most recent call last)",
      "\u001b[1;32m~\\AppData\\Local\\Temp/ipykernel_8220/2207723312.py\u001b[0m in \u001b[0;36m<module>\u001b[1;34m\u001b[0m\n\u001b[0;32m      2\u001b[0m \u001b[1;33m\u001b[0m\u001b[0m\n\u001b[0;32m      3\u001b[0m \u001b[0mmodel2\u001b[0m\u001b[1;33m.\u001b[0m\u001b[0mfit\u001b[0m\u001b[1;33m(\u001b[0m\u001b[0mx_train\u001b[0m\u001b[1;33m,\u001b[0m\u001b[0my_train\u001b[0m\u001b[1;33m,\u001b[0m\u001b[0mvalidation_data\u001b[0m\u001b[1;33m=\u001b[0m\u001b[1;33m(\u001b[0m\u001b[0mx_test\u001b[0m\u001b[1;33m,\u001b[0m\u001b[0my_test\u001b[0m\u001b[1;33m)\u001b[0m\u001b[1;33m,\u001b[0m\u001b[0mepochs\u001b[0m\u001b[1;33m=\u001b[0m\u001b[1;36m10\u001b[0m\u001b[1;33m,\u001b[0m\u001b[0mbatch_size\u001b[0m\u001b[1;33m=\u001b[0m\u001b[1;36m200\u001b[0m\u001b[1;33m,\u001b[0m\u001b[0mverbose\u001b[0m\u001b[1;33m=\u001b[0m\u001b[1;36m2\u001b[0m\u001b[1;33m)\u001b[0m\u001b[1;33m\u001b[0m\u001b[1;33m\u001b[0m\u001b[0m\n\u001b[1;32m----> 4\u001b[1;33m \u001b[0mscores\u001b[0m \u001b[1;33m=\u001b[0m \u001b[0mmodel\u001b[0m\u001b[1;33m.\u001b[0m\u001b[0mevaluate\u001b[0m\u001b[1;33m(\u001b[0m\u001b[0mX_test\u001b[0m\u001b[1;33m,\u001b[0m \u001b[0my_test\u001b[0m\u001b[1;33m,\u001b[0m \u001b[0mverbose\u001b[0m\u001b[1;33m=\u001b[0m\u001b[1;36m0\u001b[0m\u001b[1;33m)\u001b[0m\u001b[1;33m\u001b[0m\u001b[1;33m\u001b[0m\u001b[0m\n\u001b[0m\u001b[0;32m      5\u001b[0m \u001b[0mprint\u001b[0m\u001b[1;33m(\u001b[0m\u001b[1;34m\"Accuracy: {} \\n Error: {}\"\u001b[0m\u001b[1;33m.\u001b[0m\u001b[0mformat\u001b[0m\u001b[1;33m(\u001b[0m\u001b[0mscores\u001b[0m\u001b[1;33m[\u001b[0m\u001b[1;36m1\u001b[0m\u001b[1;33m]\u001b[0m\u001b[1;33m,\u001b[0m \u001b[1;36m100\u001b[0m\u001b[1;33m-\u001b[0m\u001b[0mscores\u001b[0m\u001b[1;33m[\u001b[0m\u001b[1;36m1\u001b[0m\u001b[1;33m]\u001b[0m\u001b[1;33m*\u001b[0m\u001b[1;36m100\u001b[0m\u001b[1;33m)\u001b[0m\u001b[1;33m)\u001b[0m\u001b[1;33m\u001b[0m\u001b[1;33m\u001b[0m\u001b[0m\n",
      "\u001b[1;31mNameError\u001b[0m: name 'X_test' is not defined"
     ]
    }
   ],
   "source": [
    "model2= convolution2_model()\n",
    "\n",
    "model2.fit(x_train,y_train,validation_data=(x_test,y_test),epochs=10,batch_size=200,verbose=2)\n"
   ]
  },
  {
   "cell_type": "code",
   "execution_count": 16,
   "id": "ffb168c6",
   "metadata": {},
   "outputs": [
    {
     "name": "stdout",
     "output_type": "stream",
     "text": [
      "Accuracy: 0.9872000217437744 \n",
      " Error: 1.2799978256225586\n"
     ]
    }
   ],
   "source": [
    "scores = model.evaluate(x_test, y_test, verbose=0)\n",
    "print(\"Accuracy: {} \\n Error: {}\".format(scores[1], 100-scores[1]*100))"
   ]
  },
  {
   "cell_type": "markdown",
   "id": "ce456fa0",
   "metadata": {},
   "source": [
    "### From the experiment, one thing to take note is that(depending on the dataset) a second convotional layer may not be necessary as the above model did not have an improved score compared to the the first model "
   ]
  },
  {
   "cell_type": "code",
   "execution_count": null,
   "id": "6468b107",
   "metadata": {},
   "outputs": [],
   "source": []
  }
 ],
 "metadata": {
  "kernelspec": {
   "display_name": "Python 3 (ipykernel)",
   "language": "python",
   "name": "python3"
  },
  "language_info": {
   "codemirror_mode": {
    "name": "ipython",
    "version": 3
   },
   "file_extension": ".py",
   "mimetype": "text/x-python",
   "name": "python",
   "nbconvert_exporter": "python",
   "pygments_lexer": "ipython3",
   "version": "3.9.7"
  }
 },
 "nbformat": 4,
 "nbformat_minor": 5
}
